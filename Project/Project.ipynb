import os
import re
import time
import requests
import moviepy.editor as mp
from moviepy.editor import concatenate_videoclips
from IPython.display import Audio, Video, display
from google.colab import files
from typing import List
from elevenlabs.client import ElevenLabs
from elevenlabs import VoiceSettings

# === GLOBAL CONFIGURATION ===
script_path = "script.txt"
audio_filename = "voiceover.mp3"
output_video_raw = "temp_raw_video.mp4"
output_video_final = "final_video.mp4"
subtitle_file = "subtitles.srt"
pexels_api_key = "cL9TuqnVRbARsJNBl0lc1qgWvoXTdaGKlIdgX9EiBf4cIlvk6nLnsYLW"
target_resolution = (1280, 720)
eleven_api_key = "sk_f59dc550bf3cc6d42062fa29f0a8da18a5e98177870f6bfc"


# === AGENTS ===

class VoiceoverAgent:
    def generate(self, text: str, voice_name: str = None):
        print(" VoiceoverAgent: Starting voice generation using ElevenLabs...")
        client = ElevenLabs(api_key=eleven_api_key)

        voices = client.voices.get_all().voices
        voice_map = {v.name: v.voice_id for v in voices}
        voice_name = voice_name or list(voice_map.keys())[0]
        voice_id = voice_map[voice_name]

        with open(script_path, "w") as f:
            f.write(text.strip())

        settings = VoiceSettings(
            stability=0.4,
            similarity_boost=0.8,
            style=0.7,
            use_speaker_boost=True,
            pitch=0,
            speed=1.0
        )

        audio_stream = client.text_to_speech.convert(
            voice_id=voice_id,
            model_id="eleven_multilingual_v2",
            text=text,
            voice_settings=settings
        )

        with open(audio_filename, "wb") as f:
            for chunk in audio_stream:
                f.write(chunk)

        print(f" VoiceoverAgent: Voiceover saved to '{audio_filename}'")


class ScriptAgent:
    def process_script(self) -> List[str]:
        print("ScriptAgent: Processing script into phrases...")
        if not os.path.exists(script_path):
            raise FileNotFoundError("❌ ScriptAgent: Missing script.txt")

        with open(script_path, "r") as f:
            raw_script = f.read()

        clean_script = raw_script.replace('\n', ' ').replace('"', '').replace("'", "")
        phrases = [p.strip() for p in re.split(r'[.?!]', clean_script) if p.strip()]

        print(f" ScriptAgent: Extracted {len(phrases)} phrases.")
        return phrases


class VideoAgent:
    def fetch_clips(self, phrases: List[str], clip_duration: float) -> List[mp.VideoFileClip]:
        print(" VideoAgent: Downloading matching video clips from Pexels...")
        headers = {"Authorization": pexels_api_key}
        video_clips = []

        for idx, phrase in enumerate(phrases):
            query = '+'.join(phrase.lower().split()[:3]) + "+cricket"
            print(f" VideoAgent: Searching for → {query}")

            try:
                res = requests.get(f"https://api.pexels.com/videos/search?query={query}&per_page=1", headers=headers)
                data = res.json()
                if not data.get("videos"):
                    print(f" VideoAgent: No video found for → \"{phrase}\"")
                    continue

                video_url = data["videos"][0]["video_files"][0]["link"]
                video_path = f"clip_{idx}.mp4"
                with open(video_path, "wb") as f:
                    f.write(requests.get(video_url).content)

                clip = mp.VideoFileClip(video_path)
                clip = clip.resize(height=target_resolution[1])
                clip = clip.crop(width=target_resolution[0], height=target_resolution[1],
                                 x_center=clip.w / 2, y_center=clip.h / 2)

                if clip.duration >= clip_duration:
                    clip = clip.subclip(0, clip_duration)
                    video_clips.append(clip)
                else:
                    print(f" VideoAgent: Skipping short clip for → \"{phrase}\"")

            except Exception as e:
                print(f" VideoAgent: Error on '{phrase}': {e}")

        if len(video_clips) < len(phrases):
            raise Exception(f" VideoAgent: Only found {len(video_clips)} usable clips for {len(phrases)} phrases.")
        return video_clips


class SubtitleAgent:
    def generate_srt(self, phrases: List[str], duration: float):
        print(" SubtitleAgent: Generating subtitles...")

        def ts(seconds):
            h = int(seconds // 3600)
            m = int((seconds % 3600) // 60)
            s = int(seconds % 60)
            ms = int((seconds % 1) * 1000)
            return f"{h:02}:{m:02}:{s:02},{ms:03}"

        with open(subtitle_file, "w") as f:
            for i, phrase in enumerate(phrases):
                start = i * duration
                end = (i + 1) * duration
                f.write(f"{i+1}\n{ts(start)} --> {ts(end)}\n{phrase}\n\n")

        print(f" SubtitleAgent: Saved subtitles to '{subtitle_file}'")


class VideoAssembler:
    def assemble_and_export(self, video_clips: List[mp.VideoFileClip], voiceover_path: str):
        print(" VideoAssembler: Merging clips and adding audio...")
        voiceover = mp.AudioFileClip(voiceover_path)
        final = concatenate_videoclips(video_clips, method="compose").set_audio(voiceover)

        print(" VideoAssembler: Saving raw video...")
        final.write_videofile(output_video_raw, fps=24)

        print(" VideoAssembler: Burning subtitles using ffmpeg...")
        !ffmpeg -y -i {output_video_raw} -vf "subtitles={subtitle_file}" -c:a copy {output_video_final}

        if os.path.exists(output_video_final):
            print(" VideoAssembler: Final video saved successfully!")
            display(Video(output_video_final, embed=True, width=640))
            display(Audio(voiceover_path))
            files.download(output_video_final)
        else:
            print("❌ VideoAssembler: Final video not created.")


# === CREW CONTROLLER ===

class VideoCrew:
    def run_pipeline(self, raw_script):
        print(" Crew Kickoff: AI Video Pipeline Initiated")
        print(" Crew Agents: VoiceoverAgent, ScriptAgent, VideoAgent, SubtitleAgent, VideoAssembler\n")

        voiceover_agent = VoiceoverAgent()
        script_agent = ScriptAgent()
        video_agent = VideoAgent()
        subtitle_agent = SubtitleAgent()
        assembler = VideoAssembler()

        voiceover_agent.generate(text=raw_script)

        phrases = script_agent.process_script()
        voiceover = mp.AudioFileClip(audio_filename)
        clip_duration = voiceover.duration / len(phrases)

        clips = video_agent.fetch_clips(phrases, clip_duration)
        subtitle_agent.generate_srt(phrases[:len(clips)], clip_duration)
        assembler.assemble_and_export(clips, audio_filename)



your_script = """
The stadium erupted as the batsman struck the first six of the match.
Every cheer echoed through the night sky like thunder.
The bowler’s eyes narrowed with determination, preparing for a game-changing delivery.
A diving catch turned the tide and stunned the crowd.
The tension was unbearable as the final over began.
Victory was snatched from the jaws of defeat, sealing an unforgettable finish.
"""

crew = VideoCrew()
crew.run_pipeline(raw_script=your_script)
